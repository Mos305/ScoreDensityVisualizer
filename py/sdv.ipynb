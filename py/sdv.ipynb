{
 "cells": [
  {
   "cell_type": "code",
   "execution_count": 1,
   "metadata": {},
   "outputs": [],
   "source": [
    "import os\n",
    "from glob import glob\n",
    "import re\n",
    "import pandas as pd\n",
    "\n",
    "import matplotlib.pyplot as plt"
   ]
  },
  {
   "cell_type": "code",
   "execution_count": 2,
   "metadata": {},
   "outputs": [
    {
     "name": "stdout",
     "output_type": "stream",
     "text": [
      "142\n"
     ]
    },
    {
     "data": {
      "text/plain": [
       "['/mnt/d/Taiko/TJAPlayer3-Ver.1.5.2/7-ゲームミュージック/#1f1e33/#1f1e33.tja',\n",
       " '/mnt/d/Taiko/TJAPlayer3-Ver.1.5.2/7-ゲームミュージック/1116/1116.tja',\n",
       " '/mnt/d/Taiko/TJAPlayer3-Ver.1.5.2/7-ゲームミュージック/Ad astra per aspera/Ad astra per aspera.tja',\n",
       " '/mnt/d/Taiko/TJAPlayer3-Ver.1.5.2/7-ゲームミュージック/Aleph-0/Aleph-0.tja',\n",
       " '/mnt/d/Taiko/TJAPlayer3-Ver.1.5.2/7-ゲームミュージック/Altros/Altros.tja']"
      ]
     },
     "execution_count": 2,
     "metadata": {},
     "output_type": "execute_result"
    }
   ],
   "source": [
    "lst_filePath = glob('/mnt/d/Taiko/TJAPlayer3-Ver.1.5.2/7-ゲームミュージック/*/*.tja')\n",
    "\n",
    "print(len(lst_filePath))\n",
    "lst_filePath[:5]"
   ]
  },
  {
   "cell_type": "code",
   "execution_count": 3,
   "metadata": {},
   "outputs": [
    {
     "data": {
      "text/plain": [
       "'/mnt/d/Taiko/TJAPlayer3-Ver.1.5.2/7-ゲームミュージック/#1f1e33/#1f1e33.tja'"
      ]
     },
     "execution_count": 3,
     "metadata": {},
     "output_type": "execute_result"
    }
   ],
   "source": [
    "path = lst_filePath[0]\n",
    "\n",
    "path"
   ]
  },
  {
   "cell_type": "code",
   "execution_count": 4,
   "metadata": {},
   "outputs": [
    {
     "data": {
      "text/plain": [
       "True"
      ]
     },
     "execution_count": 4,
     "metadata": {},
     "output_type": "execute_result"
    }
   ],
   "source": [
    "'.tja' in path"
   ]
  },
  {
   "cell_type": "code",
   "execution_count": 36,
   "metadata": {},
   "outputs": [],
   "source": [
    "# ファイル読み込み\n",
    "with open(path, 'r', encoding='shift_jis') as f:\n",
    "    lines = f.readlines()"
   ]
  },
  {
   "cell_type": "code",
   "execution_count": 37,
   "metadata": {},
   "outputs": [
    {
     "name": "stdout",
     "output_type": "stream",
     "text": [
      "181.0 1.0\n"
     ]
    }
   ],
   "source": [
    "# BPMと拍子の初期値を設定\n",
    "current_bpm = float(re.sub('BPM:', '', [line for line in lines if re.search('BPM:', line) is not None][0]))   # ヘッダのBPM値を抽出\n",
    "current_measure = float(4.0 / 4.0)\n",
    "\n",
    "print(current_bpm, current_measure)"
   ]
  },
  {
   "cell_type": "code",
   "execution_count": 38,
   "metadata": {},
   "outputs": [
    {
     "name": "stdout",
     "output_type": "stream",
     "text": [
      "378\n"
     ]
    },
    {
     "data": {
      "text/plain": [
       "['4,\\n', '0,\\n', '0,\\n', '0000000000102100,\\n', '\\n']"
      ]
     },
     "execution_count": 38,
     "metadata": {},
     "output_type": "execute_result"
    }
   ],
   "source": [
    "# 譜面部分を抽出\n",
    "stt_line_idx = [i for i, line in enumerate(lines) if re.search('#START', line) is not None][0]\n",
    "end_line_idx = [i for i, line in enumerate(lines) if re.search('#END', line) is not None][0]\n",
    "scorelines = lines[stt_line_idx + 1:end_line_idx]\n",
    "\n",
    "print(len(scorelines))\n",
    "scorelines[:5]"
   ]
  },
  {
   "cell_type": "code",
   "execution_count": 39,
   "metadata": {},
   "outputs": [],
   "source": [
    "def update_current_bpm(line, bpm):\n",
    "    \"\"\"\n",
    "    BPMを更新する関数\n",
    "\n",
    "    Parameters\n",
    "    ----------\n",
    "    line : str\n",
    "        '#BPMCHANGE'行\n",
    "    bpm : float\n",
    "        現在のBPM\n",
    "\n",
    "    Returns\n",
    "    -------\n",
    "    float\n",
    "        更新されたBPM\n",
    "    bool\n",
    "        その後の処理を実行するかどうか\n",
    "    \"\"\"\n",
    "    match = re.match('#BPMCHANGE', line)\n",
    "    if match:\n",
    "        return float(re.sub('#BPMCHANGE', '', line)), True\n",
    "    else:\n",
    "        return bpm, False"
   ]
  },
  {
   "cell_type": "code",
   "execution_count": 40,
   "metadata": {},
   "outputs": [],
   "source": [
    "def update_current_measure(line, measure):\n",
    "    \"\"\"\n",
    "    拍子を更新する関数\n",
    "\n",
    "    Parameters\n",
    "    ----------\n",
    "    line : str\n",
    "        '#MEASURE'行\n",
    "    bpm : float\n",
    "        現在の拍子\n",
    "\n",
    "    Returns\n",
    "    -------\n",
    "    float\n",
    "        更新された拍子\n",
    "    bool\n",
    "        その後の処理を実行するかどうか\n",
    "    \"\"\"\n",
    "    match = re.match('#MEASURE', line)\n",
    "    if match:\n",
    "        frac = re.sub('#MEASURE', '', line).split('/')\n",
    "        return float(frac[0]) / float(frac[1]), True\n",
    "    else:\n",
    "        return measure, False"
   ]
  },
  {
   "cell_type": "code",
   "execution_count": 41,
   "metadata": {},
   "outputs": [],
   "source": [
    "def update_current_score(line):\n",
    "    \"\"\"\n",
    "    譜面行で末尾が閉じられていない場合に，その部分を抽出する関数\n",
    "\n",
    "    Parameters\n",
    "    ----------\n",
    "    line : str\n",
    "        譜面行\n",
    "\n",
    "    Returns\n",
    "    -------\n",
    "    str\n",
    "        抽出した譜面行\n",
    "    \"\"\"\n",
    "    match = re.match(r'[0-9]+', line)\n",
    "    if match:\n",
    "        return match.group()\n",
    "    else:\n",
    "        return ''"
   ]
  },
  {
   "cell_type": "code",
   "execution_count": 42,
   "metadata": {},
   "outputs": [],
   "source": [
    "def calc_density(line, score, bpm, measure):\n",
    "    \"\"\"\n",
    "    密度を計算する関数\n",
    "\n",
    "    Parameters\n",
    "    ----------\n",
    "    line : str\n",
    "        譜面行\n",
    "    score : str\n",
    "        その小節が複数行にまたがっていた場合のそれまでの譜面行\n",
    "    bpm : float\n",
    "        BPM\n",
    "    measure : float\n",
    "        拍子\n",
    "\n",
    "    Returns\n",
    "    -------\n",
    "    list[float, float, float, float, float str]\n",
    "        計算結果とその補助情報\n",
    "        形式：\n",
    "            ドンの密度\n",
    "            カツの密度\n",
    "            ドン＋カツの密度\n",
    "            BPM\n",
    "            拍子\n",
    "            譜面\n",
    "    str\n",
    "        それまでストックしていた譜面行をリセットするための空文字\n",
    "    bool\n",
    "        その後の処理を実行するかどうか\n",
    "    \"\"\"\n",
    "    match = re.match(r'[0-9]+,', line)\n",
    "    if match:\n",
    "        # ドン，カツの数をカウント\n",
    "        score += match.group()\n",
    "        count_don = float(score.count('1') + score.count('3'))\n",
    "        count_ka = float(score.count('2') + score.count('4'))\n",
    "        count_all = count_don + count_ka\n",
    "        # その小節の長さ（秒数）を計算\n",
    "        bar_len = 240.0 / bpm * measure\n",
    "        # 密度を計算して返す\n",
    "        return [count_don / bar_len, count_ka / bar_len, count_all / bar_len, bpm, measure, score], '', True\n",
    "    else:\n",
    "        return [0.0, 0.0, 0.0, None, None, None], score, False"
   ]
  },
  {
   "cell_type": "code",
   "execution_count": 43,
   "metadata": {},
   "outputs": [],
   "source": [
    "score = ''\n",
    "lst_rate = []\n",
    "for line in scorelines:\n",
    "    is_continue = False\n",
    "\n",
    "    # BPM，拍子を更新\n",
    "    current_bpm, is_continue = update_current_bpm(line, current_bpm)\n",
    "    if is_continue:\n",
    "        continue\n",
    "    current_measure, is_continue = update_current_measure(line, current_measure)\n",
    "    if is_continue:\n",
    "        continue\n",
    "\n",
    "    # 割合を計算\n",
    "    density, score, is_continue = calc_density(line, score, current_bpm, current_measure)\n",
    "    if is_continue:\n",
    "        lst_rate.append(density)\n",
    "        continue\n",
    "\n",
    "    # 途中までの譜面行をストック\n",
    "    score += update_current_score(line)"
   ]
  },
  {
   "cell_type": "code",
   "execution_count": 44,
   "metadata": {},
   "outputs": [
    {
     "data": {
      "text/html": [
       "<div>\n",
       "<style scoped>\n",
       "    .dataframe tbody tr th:only-of-type {\n",
       "        vertical-align: middle;\n",
       "    }\n",
       "\n",
       "    .dataframe tbody tr th {\n",
       "        vertical-align: top;\n",
       "    }\n",
       "\n",
       "    .dataframe thead th {\n",
       "        text-align: right;\n",
       "    }\n",
       "</style>\n",
       "<table border=\"1\" class=\"dataframe\">\n",
       "  <thead>\n",
       "    <tr style=\"text-align: right;\">\n",
       "      <th></th>\n",
       "      <th>don_density</th>\n",
       "      <th>ka_density</th>\n",
       "      <th>all_density</th>\n",
       "      <th>bpm</th>\n",
       "      <th>measure</th>\n",
       "      <th>score</th>\n",
       "    </tr>\n",
       "  </thead>\n",
       "  <tbody>\n",
       "    <tr>\n",
       "      <th>0</th>\n",
       "      <td>0.000000</td>\n",
       "      <td>0.754167</td>\n",
       "      <td>0.754167</td>\n",
       "      <td>181.0</td>\n",
       "      <td>1.0</td>\n",
       "      <td>4,</td>\n",
       "    </tr>\n",
       "    <tr>\n",
       "      <th>1</th>\n",
       "      <td>0.000000</td>\n",
       "      <td>0.000000</td>\n",
       "      <td>0.000000</td>\n",
       "      <td>181.0</td>\n",
       "      <td>1.0</td>\n",
       "      <td>0,</td>\n",
       "    </tr>\n",
       "    <tr>\n",
       "      <th>2</th>\n",
       "      <td>0.000000</td>\n",
       "      <td>0.000000</td>\n",
       "      <td>0.000000</td>\n",
       "      <td>181.0</td>\n",
       "      <td>1.0</td>\n",
       "      <td>0,</td>\n",
       "    </tr>\n",
       "    <tr>\n",
       "      <th>3</th>\n",
       "      <td>1.508333</td>\n",
       "      <td>0.754167</td>\n",
       "      <td>2.262500</td>\n",
       "      <td>181.0</td>\n",
       "      <td>1.0</td>\n",
       "      <td>0000000000102100,</td>\n",
       "    </tr>\n",
       "    <tr>\n",
       "      <th>4</th>\n",
       "      <td>0.754167</td>\n",
       "      <td>0.000000</td>\n",
       "      <td>0.754167</td>\n",
       "      <td>181.0</td>\n",
       "      <td>1.0</td>\n",
       "      <td>3,</td>\n",
       "    </tr>\n",
       "    <tr>\n",
       "      <th>...</th>\n",
       "      <td>...</td>\n",
       "      <td>...</td>\n",
       "      <td>...</td>\n",
       "      <td>...</td>\n",
       "      <td>...</td>\n",
       "      <td>...</td>\n",
       "    </tr>\n",
       "    <tr>\n",
       "      <th>143</th>\n",
       "      <td>6.033333</td>\n",
       "      <td>2.262500</td>\n",
       "      <td>8.295833</td>\n",
       "      <td>362.0</td>\n",
       "      <td>2.0</td>\n",
       "      <td>1201201201101011,</td>\n",
       "    </tr>\n",
       "    <tr>\n",
       "      <th>144</th>\n",
       "      <td>6.033333</td>\n",
       "      <td>0.000000</td>\n",
       "      <td>6.033333</td>\n",
       "      <td>362.0</td>\n",
       "      <td>2.0</td>\n",
       "      <td>3003003001103011,</td>\n",
       "    </tr>\n",
       "    <tr>\n",
       "      <th>145</th>\n",
       "      <td>6.033333</td>\n",
       "      <td>0.000000</td>\n",
       "      <td>6.033333</td>\n",
       "      <td>362.0</td>\n",
       "      <td>2.0</td>\n",
       "      <td>3003003001103011,</td>\n",
       "    </tr>\n",
       "    <tr>\n",
       "      <th>146</th>\n",
       "      <td>6.033333</td>\n",
       "      <td>2.262500</td>\n",
       "      <td>8.295833</td>\n",
       "      <td>362.0</td>\n",
       "      <td>2.0</td>\n",
       "      <td>1201201201101011,</td>\n",
       "    </tr>\n",
       "    <tr>\n",
       "      <th>147</th>\n",
       "      <td>0.000000</td>\n",
       "      <td>3.016667</td>\n",
       "      <td>3.016667</td>\n",
       "      <td>362.0</td>\n",
       "      <td>2.0</td>\n",
       "      <td>0400400400400000,</td>\n",
       "    </tr>\n",
       "  </tbody>\n",
       "</table>\n",
       "<p>148 rows × 6 columns</p>\n",
       "</div>"
      ],
      "text/plain": [
       "     don_density  ka_density  all_density    bpm  measure              score\n",
       "0       0.000000    0.754167     0.754167  181.0      1.0                 4,\n",
       "1       0.000000    0.000000     0.000000  181.0      1.0                 0,\n",
       "2       0.000000    0.000000     0.000000  181.0      1.0                 0,\n",
       "3       1.508333    0.754167     2.262500  181.0      1.0  0000000000102100,\n",
       "4       0.754167    0.000000     0.754167  181.0      1.0                 3,\n",
       "..           ...         ...          ...    ...      ...                ...\n",
       "143     6.033333    2.262500     8.295833  362.0      2.0  1201201201101011,\n",
       "144     6.033333    0.000000     6.033333  362.0      2.0  3003003001103011,\n",
       "145     6.033333    0.000000     6.033333  362.0      2.0  3003003001103011,\n",
       "146     6.033333    2.262500     8.295833  362.0      2.0  1201201201101011,\n",
       "147     0.000000    3.016667     3.016667  362.0      2.0  0400400400400000,\n",
       "\n",
       "[148 rows x 6 columns]"
      ]
     },
     "execution_count": 44,
     "metadata": {},
     "output_type": "execute_result"
    }
   ],
   "source": [
    "df_density = pd.DataFrame(lst_rate, columns=['don_density', 'ka_density', 'all_density', 'bpm', 'measure', 'score'])\n",
    "\n",
    "df_density"
   ]
  },
  {
   "cell_type": "code",
   "execution_count": 45,
   "metadata": {},
   "outputs": [
    {
     "data": {
      "image/png": "[encoded data removed]",
      "text/plain": [
       "<Figure size 432x288 with 1 Axes>"
      ]
     },
     "metadata": {
      "needs_background": "light"
     },
     "output_type": "display_data"
    }
   ],
   "source": [
    "plt.title(re.sub('.tja', '', os.path.basename(path)))\n",
    "plt.xlabel('bars[bar]')\n",
    "plt.ylabel('density[hit/s]')\n",
    "plt.plot(df_density.all_density, color='green')\n",
    "plt.plot(df_density.don_density, color='red')\n",
    "plt.plot(df_density.ka_density, color='blue')\n",
    "plt.show()"
   ]
  },
  {
   "cell_type": "code",
   "execution_count": 46,
   "metadata": {},
   "outputs": [],
   "source": [
    "df_density.to_csv('df_density.csv', index=False)"
   ]
  },
  {
   "cell_type": "code",
   "execution_count": null,
   "metadata": {},
   "outputs": [],
   "source": []
  }
 ],
 "metadata": {
  "kernelspec": {
   "display_name": "Python 3",
   "language": "python",
   "name": "python3"
  },
  "language_info": {
   "codemirror_mode": {
    "name": "ipython",
    "version": 3
   },
   "file_extension": ".py",
   "mimetype": "text/x-python",
   "name": "python",
   "nbconvert_exporter": "python",
   "pygments_lexer": "ipython3",
   "version": "3.7.2"
  }
 },
 "nbformat": 4,
 "nbformat_minor": 4
}
